{
 "cells": [
  {
   "cell_type": "markdown",
   "id": "conscious-sphere",
   "metadata": {},
   "source": [
    "# Prerequisites for Data Analysis with Jupyter Notebook\n",
    "\n",
    "1. Intermediate level knowledge of coding with Python language.\n",
    "2. Some basic understanding of Statistics concepts.\n",
    "3. Understanding of the data that you are interested in analyzing it."
   ]
  },
  {
   "cell_type": "markdown",
   "id": "rational-target",
   "metadata": {},
   "source": [
    "# Environment setup\n",
    "\n",
    "To get you ready with the environment, you need to have at least Python and Jupyter Notebook. However, there is easier way to setup all the requirements. By install Anaconda to get all you need for Data Analysis or Data Science project (download link: https://www.anaconda.com/products/individual).\n",
    "\n",
    "Anaconda allows you to create different environments for your projects. This will give you a flexibility to install different version of Python and all other libraries you need for specific project.\n",
    "\n",
    "Here is a quick installation and intro to Anaconda video: https://www.youtube.com/watch?v=C4OPn58BLaU&ab_channel=KenJee\n",
    "\n"
   ]
  },
  {
   "attachments": {},
   "cell_type": "markdown",
   "id": "appointed-incidence",
   "metadata": {},
   "source": [
    "# Cheat Sheets\n",
    "\n",
    "Following are some cheat sheets you may need to refer to while you tools.\n",
    "\n",
    "\n",
    "#### 1. Python\n",
    "\n",
    "* Basic: https://www.dataquest.io/blog/python-cheat-sheet/\n",
    "* Intermediate: https://www.dataquest.io/blog/data-science-python-cheat-sheet/\n",
    "\n",
    "\n",
    "#### 2. Pandas\n",
    "* https://www.dataquest.io/blog/pandas-cheat-sheet/\n",
    "* https://pandas.pydata.org/Pandas_Cheat_Sheet.pdf\n",
    "\n",
    "#### 3. Numpy\n",
    "* https://www.dataquest.io/blog/numpy-cheat-sheet/\n",
    "* https://s3.amazonaws.com/assets.datacamp.com/blog_assets/Numpy_Python_Cheat_Sheet.pdf\n",
    "\n",
    "#### 4. Matplotlib\n",
    "* https://s3.amazonaws.com/assets.datacamp.com/blog_assets/Python_Matplotlib_Cheat_Sheet.pdf\n",
    "* https://towardsdatascience.com/matplotlib-cheat-sheet-f441c43971c4\n",
    "\n",
    "#### 5. Seaborn\n",
    "* https://s3.amazonaws.com/assets.datacamp.com/blog_assets/Python_Seaborn_Cheat_Sheet.pdf\n",
    "* https://www.kaggle.com/connectaditya/seaborn-cheat-sheet\n",
    "\n",
    "#### 6. Anaconda\n",
    "* https://know.continuum.io/rs/387-XNW-688/images/conda-cheatsheet.pdf\n",
    "\n",
    "\n",
    "\n",
    "More cheatsheets can be found here: https://www.datacamp.com/community/data-science-cheatsheets\n"
   ]
  },
  {
   "cell_type": "markdown",
   "id": "fewer-measure",
   "metadata": {},
   "source": [
    "# Data Analysis Steps\n",
    "\n",
    "1. Define the Question. What is it you want to know?\n",
    "2. Data gathering.\n",
    "3. Exploring the data\n",
    "4. Data cleaning\n",
    "5. Summarize the data"
   ]
  },
  {
   "cell_type": "markdown",
   "id": "prescription-samuel",
   "metadata": {},
   "source": [
    "# Statistics Concepts\n",
    "\n",
    "### What is Scales of Measures (Feature Types)?\n",
    "\n",
    "It is a way to describe the characteristics of a variable. Knowing the scale of measurement for a variable is an important aspect in choosing the right statistical analysis.\n",
    "\n",
    "\n",
    "#### 1. Nominal: \n",
    "A nominal scale describes a variable with categories that do not have a natural order or ranking. You can code nominal variables with numbers if you want, but the order is arbitrary and any calculations, such as computing a mean, median, or standard deviation, would be meaningless.\n",
    "\n",
    "Data Type: Qualitative\n",
    "\n",
    "Examples: genotype, blood type, zip code, gender, race, eye color, political party\n",
    "\n",
    "#### 2. Ordinal:\n",
    "An ordinal scale is one where the order matters but not the difference between values.\n",
    "\n",
    "Data Type: Qualitative\n",
    "\n",
    "Examples: socio economic status (“low income”,”middle income”,”high income”), education level (“high school”,”BS”,”MS”,”PhD”), income level (“less than 50K”, “50K-100K”, “over 100K”), satisfaction rating (“extremely dislike”, “dislike”, “neutral”, “like”, “extremely like”).\n",
    "\n",
    "#### 3. Interval:\n",
    "An interval scale is one where there is order and the difference between two values is meaningful.\n",
    "\n",
    "Data Type: Quantitative\n",
    "\n",
    "Examples: temperature (Farenheit), temperature (Celcius), pH, SAT score (200-800), credit score (300-850).\n",
    "\n",
    "#### 4. Ratio:\n",
    "A ratio variable, has all the properties of an interval variable, and also has a clear definition of 0.0. When the variable equals 0.0, there is none of that variable.\n",
    "\n",
    "Data Type: Quantitative\n",
    "\n",
    "Examples: enzyme activity, dose amount, reaction rate, flow rate, concentration, pulse, weight, length, temperature in Kelvin (0.0 Kelvin really does mean “no heat”), survival time.\n",
    "\n",
    "\n",
    "Ref: https://www.graphpad.com/support/faq/what-is-the-difference-between-ordinal-interval-and-ratio-variables-why-should-i-care/"
   ]
  },
  {
   "cell_type": "markdown",
   "id": "every-disabled",
   "metadata": {},
   "source": [
    "# Data Visualization\n",
    "\n",
    "1. A Beginners Guide To Seaborn, Python’s Visualization Library. Here you can see how to create 10 useful graphs and and their use: https://analyticsindiamag.com/a-beginners-guide-to-seaborn-pythons-visualization-library/"
   ]
  }
 ],
 "metadata": {
  "kernelspec": {
   "display_name": "Python 3",
   "language": "python",
   "name": "python3"
  },
  "language_info": {
   "codemirror_mode": {
    "name": "ipython",
    "version": 3
   },
   "file_extension": ".py",
   "mimetype": "text/x-python",
   "name": "python",
   "nbconvert_exporter": "python",
   "pygments_lexer": "ipython3",
   "version": "3.7.9"
  }
 },
 "nbformat": 4,
 "nbformat_minor": 5
}
